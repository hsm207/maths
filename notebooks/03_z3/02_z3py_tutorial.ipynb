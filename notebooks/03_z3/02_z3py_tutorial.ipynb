{
 "cells": [
  {
   "cell_type": "code",
   "execution_count": 3,
   "metadata": {},
   "outputs": [
    {
     "name": "stdout",
     "output_type": "stream",
     "text": [
      "3.8.5 (default, Dec 15 2020, 06:10:15) \n",
      "[GCC 5.4.0 20160609]\n",
      "/home/sage/sage/local/bin/python3\n"
     ]
    }
   ],
   "source": [
    "import sys\n",
    "\n",
    "print(sys.version)\n",
    "print(sys.executable)"
   ]
  },
  {
   "cell_type": "markdown",
   "metadata": {},
   "source": [
    "From https://ericpony.github.io/z3py-tutorial/guide-examples.htm"
   ]
  },
  {
   "cell_type": "code",
   "execution_count": 4,
   "metadata": {},
   "outputs": [],
   "source": [
    "from z3 import *"
   ]
  },
  {
   "cell_type": "markdown",
   "metadata": {},
   "source": [
    "# Solving Equations"
   ]
  },
  {
   "cell_type": "markdown",
   "metadata": {},
   "source": [
    "To solve:\n",
    "\n",
    "* $x > 2$\n",
    "* $y < 2$\n",
    "* $x + 2 y = 7$"
   ]
  },
  {
   "cell_type": "code",
   "execution_count": 8,
   "metadata": {},
   "outputs": [
    {
     "name": "stdout",
     "output_type": "stream",
     "text": [
      "[y = 0, x = 7]\n"
     ]
    }
   ],
   "source": [
    "x = Int('x')\n",
    "y = Int('y')\n",
    "\n",
    "c1 = x > 2\n",
    "c2 = y < 2\n",
    "c3 = x + 2 * y == 7\n",
    "\n",
    "solve(c1, c2, c3)"
   ]
  },
  {
   "cell_type": "markdown",
   "metadata": {},
   "source": [
    "# Simplifying Expressions"
   ]
  },
  {
   "cell_type": "code",
   "execution_count": 9,
   "metadata": {},
   "outputs": [],
   "source": [
    "x = Int('x')\n",
    "y = Int('y')"
   ]
  },
  {
   "cell_type": "code",
   "execution_count": 10,
   "metadata": {},
   "outputs": [],
   "source": [
    "expr1 = x + y + 2 * x + 3\n",
    "expr2 = x < y + x + 2\n",
    "expr3 = And(x + 1 >= 3, x ** 2 + x **2 + y ** 2 + 2 >=5)"
   ]
  },
  {
   "cell_type": "code",
   "execution_count": 33,
   "metadata": {},
   "outputs": [
    {
     "data": {
      "text/html": [
       "x + y + 2&middot;x + 3"
      ],
      "text/plain": [
       "x + y + 2*x + 3"
      ]
     },
     "execution_count": 33,
     "metadata": {},
     "output_type": "execute_result"
    }
   ],
   "source": [
    "expr1"
   ]
  },
  {
   "cell_type": "code",
   "execution_count": 34,
   "metadata": {},
   "outputs": [
    {
     "data": {
      "text/html": [
       "3 + 3&middot;x + y"
      ],
      "text/plain": [
       "3 + 3*x + y"
      ]
     },
     "execution_count": 34,
     "metadata": {},
     "output_type": "execute_result"
    }
   ],
   "source": [
    "simplify(expr1)"
   ]
  },
  {
   "cell_type": "code",
   "execution_count": 35,
   "metadata": {},
   "outputs": [
    {
     "data": {
      "text/html": [
       "x &lt; y + x + 2"
      ],
      "text/plain": [
       "x < y + x + 2"
      ]
     },
     "execution_count": 35,
     "metadata": {},
     "output_type": "execute_result"
    }
   ],
   "source": [
    "expr2"
   ]
  },
  {
   "cell_type": "code",
   "execution_count": 36,
   "metadata": {},
   "outputs": [
    {
     "data": {
      "text/html": [
       "&not;(y &le; -2)"
      ],
      "text/plain": [
       "Not(y <= -2)"
      ]
     },
     "execution_count": 36,
     "metadata": {},
     "output_type": "execute_result"
    }
   ],
   "source": [
    "simplify(expr2)"
   ]
  },
  {
   "cell_type": "code",
   "execution_count": 37,
   "metadata": {},
   "outputs": [
    {
     "data": {
      "text/html": [
       "x + 1 &ge; 3 &and; x<sup>2</sup> + x<sup>2</sup> + y<sup>2</sup> + 2 &ge; 5"
      ],
      "text/plain": [
       "And(x + 1 >= 3, x**2 + x**2 + y**2 + 2 >= 5)"
      ]
     },
     "execution_count": 37,
     "metadata": {},
     "output_type": "execute_result"
    }
   ],
   "source": [
    "expr3"
   ]
  },
  {
   "cell_type": "code",
   "execution_count": 38,
   "metadata": {},
   "outputs": [
    {
     "data": {
      "text/html": [
       "x &ge; 2 &and; 2&middot;x<sup>2</sup> + y<sup>2</sup> &ge; 3"
      ],
      "text/plain": [
       "And(x >= 2, 2*x**2 + y**2 >= 3)"
      ]
     },
     "execution_count": 38,
     "metadata": {},
     "output_type": "execute_result"
    }
   ],
   "source": [
    "simplify(expr3)"
   ]
  },
  {
   "cell_type": "markdown",
   "metadata": {},
   "source": [
    "# Picking Expressions Apart"
   ]
  },
  {
   "cell_type": "code",
   "execution_count": 41,
   "metadata": {},
   "outputs": [],
   "source": [
    "x = Int('x')\n",
    "y = Int('y')"
   ]
  },
  {
   "cell_type": "code",
   "execution_count": 42,
   "metadata": {},
   "outputs": [
    {
     "data": {
      "text/html": [
       "x + y &ge; 3"
      ],
      "text/plain": [
       "x + y >= 3"
      ]
     },
     "execution_count": 42,
     "metadata": {},
     "output_type": "execute_result"
    }
   ],
   "source": [
    "n = x + y >= 3\n",
    "n"
   ]
  },
  {
   "cell_type": "code",
   "execution_count": 43,
   "metadata": {},
   "outputs": [
    {
     "data": {
      "text/plain": [
       "2"
      ]
     },
     "execution_count": 43,
     "metadata": {},
     "output_type": "execute_result"
    }
   ],
   "source": [
    "n.num_args()"
   ]
  },
  {
   "cell_type": "code",
   "execution_count": 44,
   "metadata": {},
   "outputs": [
    {
     "data": {
      "text/plain": [
       "[x + y, 3]"
      ]
     },
     "execution_count": 44,
     "metadata": {},
     "output_type": "execute_result"
    }
   ],
   "source": [
    "n.children()"
   ]
  },
  {
   "cell_type": "code",
   "execution_count": 45,
   "metadata": {},
   "outputs": [
    {
     "data": {
      "text/html": [
       "&ge;"
      ],
      "text/plain": [
       ">="
      ]
     },
     "execution_count": 45,
     "metadata": {},
     "output_type": "execute_result"
    }
   ],
   "source": [
    "n.decl() # the operator"
   ]
  },
  {
   "cell_type": "code",
   "execution_count": 46,
   "metadata": {},
   "outputs": [
    {
     "data": {
      "text/html": [
       "x + y"
      ],
      "text/plain": [
       "x + y"
      ]
     },
     "execution_count": 46,
     "metadata": {},
     "output_type": "execute_result"
    }
   ],
   "source": [
    "n.arg(0)"
   ]
  },
  {
   "cell_type": "code",
   "execution_count": 47,
   "metadata": {},
   "outputs": [
    {
     "data": {
      "text/html": [
       "3"
      ],
      "text/plain": [
       "3"
      ]
     },
     "execution_count": 47,
     "metadata": {},
     "output_type": "execute_result"
    }
   ],
   "source": [
    "n.arg(1)"
   ]
  },
  {
   "cell_type": "code",
   "execution_count": 48,
   "metadata": {},
   "outputs": [
    {
     "data": {
      "text/html": [
       "+"
      ],
      "text/plain": [
       "+"
      ]
     },
     "execution_count": 48,
     "metadata": {},
     "output_type": "execute_result"
    }
   ],
   "source": [
    "n.arg(0).decl()"
   ]
  },
  {
   "cell_type": "code",
   "execution_count": 49,
   "metadata": {},
   "outputs": [
    {
     "data": {
      "text/plain": [
       "'+'"
      ]
     },
     "execution_count": 49,
     "metadata": {},
     "output_type": "execute_result"
    }
   ],
   "source": [
    "n.arg(0).decl().name()"
   ]
  },
  {
   "cell_type": "markdown",
   "metadata": {},
   "source": [
    "# Solving Nonlinear Polynomial Constraints"
   ]
  },
  {
   "cell_type": "code",
   "execution_count": 50,
   "metadata": {},
   "outputs": [
    {
     "name": "stdout",
     "output_type": "stream",
     "text": [
      "[y = 2, x = 1/8]\n"
     ]
    }
   ],
   "source": [
    "x = Real('x')\n",
    "y = Real('y')\n",
    "solve(x**2 + y**2 > 3, x**3 + y < 5)"
   ]
  },
  {
   "cell_type": "markdown",
   "metadata": {},
   "source": [
    "# Configuring The Environment"
   ]
  },
  {
   "cell_type": "code",
   "execution_count": 68,
   "metadata": {},
   "outputs": [
    {
     "name": "stdout",
     "output_type": "stream",
     "text": [
      "[y = -1.188528059421316533710369365015?,\n",
      " x = 1.259921049894873164767210607278?]\n",
      "[y = -1.188528059421316533710369365015?,\n",
      " x = 1.259921049894873164767210607278?]\n"
     ]
    }
   ],
   "source": [
    "x = Real('x')\n",
    "y = Real('y')\n",
    "solve(x**2 + y**2 == 3, x**3 == 2)\n",
    "\n",
    "set_param(precision=30)\n",
    "\n",
    "solve(x**2 + y**2 == 3, x**3 == 2)"
   ]
  },
  {
   "cell_type": "markdown",
   "metadata": {},
   "source": [
    "# Boolean Logic"
   ]
  },
  {
   "cell_type": "markdown",
   "metadata": {},
   "source": [
    "Prove [demorgan's law](https://en.wikipedia.org/wiki/De_Morgan%27s_laws):"
   ]
  },
  {
   "cell_type": "code",
   "execution_count": 73,
   "metadata": {},
   "outputs": [],
   "source": [
    "p = Bool('p')\n",
    "q = Bool('q')"
   ]
  },
  {
   "cell_type": "code",
   "execution_count": 75,
   "metadata": {},
   "outputs": [],
   "source": [
    "# note that in Z3, <=> is written as ==\n",
    "dmlaw1 = Not(Or(p, q)) == And(Not(p), Not(q))\n",
    "dmlaw2 = Not(And(p, q)) == Or(Not(p), Not(q))"
   ]
  },
  {
   "cell_type": "code",
   "execution_count": 77,
   "metadata": {},
   "outputs": [
    {
     "name": "stdout",
     "output_type": "stream",
     "text": [
      "no solution\n"
     ]
    }
   ],
   "source": [
    "solve(Not(dmlaw1))"
   ]
  },
  {
   "cell_type": "code",
   "execution_count": 79,
   "metadata": {},
   "outputs": [
    {
     "name": "stdout",
     "output_type": "stream",
     "text": [
      "no solution\n"
     ]
    }
   ],
   "source": [
    "solve(Not(dmlaw2))"
   ]
  },
  {
   "cell_type": "markdown",
   "metadata": {},
   "source": [
    "`Not dmlaw` has no solution means `dmlaw` is true!\n",
    "\n",
    "Hint:\n",
    "\n",
    "> A formula/constraint F is valid if F always evaluates to true for any assignment of appropriate values to its uninterpreted symbols. A formula/constraint F is satisfiable if there is some assignment of appropriate values to its uninterpreted symbols under which F evaluates to true. Validity is about finding a proof of a statement; satisfiability is about finding a solution to a set of constraints. Consider a formula F containing a and b. We can ask whether F is valid, that is whether it is always true for any combination of values for a and b. If F is always true, then Not(F) is always false, and then Not(F) will not have any satisfying assignment (i.e., solution); that is, Not(F) is unsatisfiable. That is, F is valid precisely when Not(F) is not satisfiable (is unsatisfiable). Alternately, F is satisfiable if and only if Not(F) is not valid (is invalid). The following example proves the deMorgan's law."
   ]
  },
  {
   "cell_type": "markdown",
   "metadata": {},
   "source": [
    "# The Solver API"
   ]
  },
  {
   "cell_type": "markdown",
   "metadata": {},
   "source": [
    "## Basics"
   ]
  },
  {
   "cell_type": "code",
   "execution_count": 86,
   "metadata": {},
   "outputs": [],
   "source": [
    "x = Int('x')\n",
    "y = Int('y')"
   ]
  },
  {
   "cell_type": "code",
   "execution_count": 87,
   "metadata": {},
   "outputs": [
    {
     "data": {
      "text/html": [
       "[]"
      ],
      "text/plain": [
       "[]"
      ]
     },
     "execution_count": 87,
     "metadata": {},
     "output_type": "execute_result"
    }
   ],
   "source": [
    "s = Solver()\n",
    "s"
   ]
  },
  {
   "cell_type": "code",
   "execution_count": 88,
   "metadata": {},
   "outputs": [
    {
     "data": {
      "text/html": [
       "[x &gt; 10, y = x + 2]"
      ],
      "text/plain": [
       "[x > 10, y == x + 2]"
      ]
     },
     "execution_count": 88,
     "metadata": {},
     "output_type": "execute_result"
    }
   ],
   "source": [
    "s.add(x > 10, y == x + 2)\n",
    "s"
   ]
  },
  {
   "cell_type": "code",
   "execution_count": 89,
   "metadata": {},
   "outputs": [
    {
     "data": {
      "text/html": [
       "<b>sat</b>"
      ],
      "text/plain": [
       "sat"
      ]
     },
     "execution_count": 89,
     "metadata": {},
     "output_type": "execute_result"
    }
   ],
   "source": [
    "# check if all constraints can be satisfied\n",
    "s.check()"
   ]
  },
  {
   "cell_type": "code",
   "execution_count": 90,
   "metadata": {},
   "outputs": [
    {
     "data": {
      "text/html": [
       "[x &gt; 10, y = x + 2, y &lt; 11]"
      ],
      "text/plain": [
       "[x > 10, y == x + 2, y < 11]"
      ]
     },
     "execution_count": 90,
     "metadata": {},
     "output_type": "execute_result"
    }
   ],
   "source": [
    "# what happens if we add y < 11 ?\n",
    "s.push()\n",
    "s.add(y < 11)\n",
    "s"
   ]
  },
  {
   "cell_type": "code",
   "execution_count": 91,
   "metadata": {},
   "outputs": [
    {
     "data": {
      "text/html": [
       "<b>unsat</b>"
      ],
      "text/plain": [
       "unsat"
      ]
     },
     "execution_count": 91,
     "metadata": {},
     "output_type": "execute_result"
    }
   ],
   "source": [
    "s.check()"
   ]
  },
  {
   "cell_type": "code",
   "execution_count": 92,
   "metadata": {},
   "outputs": [
    {
     "data": {
      "text/html": [
       "[x &gt; 10, y = x + 2]"
      ],
      "text/plain": [
       "[x > 10, y == x + 2]"
      ]
     },
     "execution_count": 92,
     "metadata": {},
     "output_type": "execute_result"
    }
   ],
   "source": [
    "# remove the y < 11 constraint\n",
    "s.pop()\n",
    "s"
   ]
  },
  {
   "cell_type": "code",
   "execution_count": 93,
   "metadata": {},
   "outputs": [
    {
     "data": {
      "text/html": [
       "<b>sat</b>"
      ],
      "text/plain": [
       "sat"
      ]
     },
     "execution_count": 93,
     "metadata": {},
     "output_type": "execute_result"
    }
   ],
   "source": [
    "s.check()"
   ]
  },
  {
   "cell_type": "markdown",
   "metadata": {},
   "source": [
    "## Traversing Assertions "
   ]
  },
  {
   "cell_type": "code",
   "execution_count": 96,
   "metadata": {},
   "outputs": [],
   "source": [
    "x = Real('x')\n",
    "y = Real('y')\n",
    "s = Solver()\n",
    "s.add(x > 1, y > 1, Or(x + y > 3, x - y < 2))"
   ]
  },
  {
   "cell_type": "code",
   "execution_count": 97,
   "metadata": {},
   "outputs": [
    {
     "name": "stdout",
     "output_type": "stream",
     "text": [
      "x > 1\n",
      "y > 1\n",
      "Or(x + y > 3, x - y < 2)\n"
     ]
    }
   ],
   "source": [
    "for c in s.assertions():\n",
    "    print(c)"
   ]
  },
  {
   "cell_type": "markdown",
   "metadata": {},
   "source": [
    "## Statistics Of Last `check()`"
   ]
  },
  {
   "cell_type": "code",
   "execution_count": 98,
   "metadata": {},
   "outputs": [
    {
     "data": {
      "text/html": [
       "<b>sat</b>"
      ],
      "text/plain": [
       "sat"
      ]
     },
     "execution_count": 98,
     "metadata": {},
     "output_type": "execute_result"
    }
   ],
   "source": [
    "s.check()"
   ]
  },
  {
   "cell_type": "code",
   "execution_count": 99,
   "metadata": {},
   "outputs": [
    {
     "data": {
      "text/plain": [
       "(:arith-lower         1\n",
       " :arith-make-feasible 3\n",
       " :arith-max-columns   8\n",
       " :arith-max-rows      2\n",
       " :arith-upper         3\n",
       " :decisions           2\n",
       " :final-checks        1\n",
       " :max-memory          9.26\n",
       " :memory              7.07\n",
       " :mk-bool-var         6\n",
       " :num-allocs          519904318\n",
       " :num-checks          1\n",
       " :rlimit-count        23673\n",
       " :time                0.02)"
      ]
     },
     "execution_count": 99,
     "metadata": {},
     "output_type": "execute_result"
    }
   ],
   "source": [
    "s.statistics()"
   ]
  },
  {
   "cell_type": "code",
   "execution_count": 100,
   "metadata": {},
   "outputs": [
    {
     "name": "stdout",
     "output_type": "stream",
     "text": [
      "mk bool var:\t1\n",
      "decisions:\t2\n",
      "final checks:\t1\n",
      "num checks:\t1\n",
      "mk bool var:\t5\n",
      "arith-lower:\t1\n",
      "arith-upper:\t3\n",
      "arith-make-feasible:\t3\n",
      "arith-max-columns:\t8\n",
      "arith-max-rows:\t2\n",
      "num allocs:\t519904318\n",
      "rlimit count:\t23673\n",
      "max memory:\t9.26\n",
      "memory:\t7.07\n",
      "time:\t0.02\n"
     ]
    }
   ],
   "source": [
    "for stat,val in s.statistics():\n",
    "    print(f\"{stat}:\\t{val}\")"
   ]
  },
  {
   "cell_type": "markdown",
   "metadata": {},
   "source": [
    "## Inspecting A Model"
   ]
  },
  {
   "cell_type": "code",
   "execution_count": 101,
   "metadata": {},
   "outputs": [
    {
     "data": {
      "text/html": [
       "<b>sat</b>"
      ],
      "text/plain": [
       "sat"
      ]
     },
     "execution_count": 101,
     "metadata": {},
     "output_type": "execute_result"
    }
   ],
   "source": [
    "x, y, z = Reals('x y z')\n",
    "s = Solver()\n",
    "s.add(x > 1, y > 1, x + y > 3, z - x < 10)\n",
    "s.check()"
   ]
  },
  {
   "cell_type": "code",
   "execution_count": 103,
   "metadata": {},
   "outputs": [
    {
     "data": {
      "text/html": [
       "[z = 0, y = 2, x = 3/2]"
      ],
      "text/plain": [
       "[z = 0, y = 2, x = 3/2]"
      ]
     },
     "execution_count": 103,
     "metadata": {},
     "output_type": "execute_result"
    }
   ],
   "source": [
    "m = s.model()\n",
    "m"
   ]
  },
  {
   "cell_type": "markdown",
   "metadata": {},
   "source": [
    "Getting the values of each variable:"
   ]
  },
  {
   "cell_type": "code",
   "execution_count": 104,
   "metadata": {},
   "outputs": [
    {
     "name": "stdout",
     "output_type": "stream",
     "text": [
      "The value of x is 3/2\n",
      "The value of y is 2\n",
      "The value of z is 0\n"
     ]
    }
   ],
   "source": [
    "for v in [x, y, z]:\n",
    "    print(f\"The value of {v} is {m[v]}\")"
   ]
  },
  {
   "cell_type": "markdown",
   "metadata": {},
   "source": [
    "Alternatively:"
   ]
  },
  {
   "cell_type": "code",
   "execution_count": 109,
   "metadata": {},
   "outputs": [
    {
     "name": "stdout",
     "output_type": "stream",
     "text": [
      "z = 0\n",
      "y = 2\n",
      "x = 3/2\n"
     ]
    }
   ],
   "source": [
    "for decl in m.decls():\n",
    "    print(f\"{decl.name()} = {m[decl]}\")"
   ]
  },
  {
   "cell_type": "code",
   "execution_count": 106,
   "metadata": {},
   "outputs": [
    {
     "data": {
      "text/plain": [
       "[z, y, x]"
      ]
     },
     "execution_count": 106,
     "metadata": {},
     "output_type": "execute_result"
    }
   ],
   "source": [
    "m.decls()"
   ]
  },
  {
   "cell_type": "markdown",
   "metadata": {},
   "source": [
    "# Unknown Solution"
   ]
  },
  {
   "cell_type": "markdown",
   "metadata": {},
   "source": [
    "Nonlinear and not polynomial:"
   ]
  },
  {
   "cell_type": "code",
   "execution_count": 94,
   "metadata": {},
   "outputs": [
    {
     "data": {
      "text/html": [
       "<b>unknown</b>"
      ],
      "text/plain": [
       "unknown"
      ]
     },
     "execution_count": 94,
     "metadata": {},
     "output_type": "execute_result"
    }
   ],
   "source": [
    "x = Real('x')\n",
    "s = Solver()\n",
    "s.add(2**x == 3)\n",
    "s.check()"
   ]
  },
  {
   "cell_type": "code",
   "execution_count": 95,
   "metadata": {},
   "outputs": [
    {
     "data": {
      "text/html": [
       "[]"
      ],
      "text/plain": [
       "[]"
      ]
     },
     "execution_count": 95,
     "metadata": {},
     "output_type": "execute_result"
    }
   ],
   "source": [
    "s.model()"
   ]
  },
  {
   "cell_type": "markdown",
   "metadata": {},
   "source": [
    "# BitVectors"
   ]
  },
  {
   "cell_type": "code",
   "execution_count": 110,
   "metadata": {},
   "outputs": [],
   "source": [
    "x = BitVec('x', 16)\n",
    "y = BitVec('y', 16)"
   ]
  },
  {
   "cell_type": "code",
   "execution_count": 111,
   "metadata": {},
   "outputs": [
    {
     "data": {
      "text/html": [
       "x + 2"
      ],
      "text/plain": [
       "x + 2"
      ]
     },
     "execution_count": 111,
     "metadata": {},
     "output_type": "execute_result"
    }
   ],
   "source": [
    "x + 2"
   ]
  },
  {
   "cell_type": "code",
   "execution_count": 114,
   "metadata": {},
   "outputs": [
    {
     "data": {
      "text/plain": [
       "'(bvadd x #x0002)'"
      ]
     },
     "execution_count": 114,
     "metadata": {},
     "output_type": "execute_result"
    }
   ],
   "source": [
    "# internal representation\n",
    "(x + 2).sexpr()"
   ]
  },
  {
   "cell_type": "code",
   "execution_count": 119,
   "metadata": {},
   "outputs": [
    {
     "data": {
      "text/html": [
       "65535 + x + y"
      ],
      "text/plain": [
       "65535 + x + y"
      ]
     },
     "execution_count": 119,
     "metadata": {},
     "output_type": "execute_result"
    }
   ],
   "source": [
    "# -1 is equal to 65535 for 16-bit integers\n",
    "simplify(x + y - 1)"
   ]
  },
  {
   "cell_type": "code",
   "execution_count": 121,
   "metadata": {},
   "outputs": [
    {
     "name": "stdout",
     "output_type": "stream",
     "text": [
      "65535 == 65535\n",
      "True\n"
     ]
    }
   ],
   "source": [
    "# bitvector constants\n",
    "a = BitVecVal(-1, 16)\n",
    "b = BitVecVal(65535, 16)\n",
    "\n",
    "print(a == b)\n",
    "print(simplify(a == b))"
   ]
  },
  {
   "cell_type": "code",
   "execution_count": 123,
   "metadata": {},
   "outputs": [
    {
     "name": "stdout",
     "output_type": "stream",
     "text": [
      "4294967295 == 65535\n",
      "False\n"
     ]
    }
   ],
   "source": [
    "a = BitVecVal(-1, 32)\n",
    "b = BitVecVal(65535, 32)\n",
    "\n",
    "# -1 is not equal to 65535 for 32-bit integers \n",
    "print(a == b)\n",
    "print(simplify(a == b))"
   ]
  },
  {
   "cell_type": "markdown",
   "metadata": {},
   "source": [
    "Arithmetic:"
   ]
  },
  {
   "cell_type": "code",
   "execution_count": 124,
   "metadata": {},
   "outputs": [
    {
     "name": "stdout",
     "output_type": "stream",
     "text": [
      "[y = 1, x = 1]\n",
      "[y = 4294967295, x = 0]\n",
      "[x = 4294967295]\n"
     ]
    }
   ],
   "source": [
    "# Create to bit-vectors of size 32\n",
    "x, y = BitVecs('x y', 32)\n",
    "\n",
    "solve(x + y == 2, x > 0, y > 0)\n",
    "\n",
    "# Bit-wise operators\n",
    "# & bit-wise and\n",
    "# | bit-wise or\n",
    "# ~ bit-wise not\n",
    "solve(x & y == ~y)\n",
    "\n",
    "solve(x < 0)"
   ]
  },
  {
   "cell_type": "code",
   "execution_count": 125,
   "metadata": {},
   "outputs": [
    {
     "name": "stdout",
     "output_type": "stream",
     "text": [
      "no solution\n"
     ]
    }
   ],
   "source": [
    "# using unsigned version of < \n",
    "solve(ULT(x, 0))"
   ]
  },
  {
   "cell_type": "code",
   "execution_count": 126,
   "metadata": {},
   "outputs": [
    {
     "name": "stdout",
     "output_type": "stream",
     "text": [
      "[x = 12]\n"
     ]
    }
   ],
   "source": [
    "# Create to bit-vectors of size 32\n",
    "x, y = BitVecs('x y', 32)\n",
    "\n",
    "solve(x >> 2 == 3)"
   ]
  },
  {
   "cell_type": "code",
   "execution_count": 127,
   "metadata": {},
   "outputs": [
    {
     "name": "stdout",
     "output_type": "stream",
     "text": [
      "no solution\n"
     ]
    }
   ],
   "source": [
    "solve(x << 2 == 3)"
   ]
  },
  {
   "cell_type": "code",
   "execution_count": 128,
   "metadata": {},
   "outputs": [
    {
     "name": "stdout",
     "output_type": "stream",
     "text": [
      "[x = 6]\n"
     ]
    }
   ],
   "source": [
    "solve(x << 2 == 24)"
   ]
  },
  {
   "cell_type": "markdown",
   "metadata": {},
   "source": [
    "# Functions"
   ]
  },
  {
   "cell_type": "code",
   "execution_count": 132,
   "metadata": {},
   "outputs": [],
   "source": [
    "x = Int('x')\n",
    "y = Int('y')\n",
    "f = Function('f', IntSort(), IntSort())"
   ]
  },
  {
   "cell_type": "markdown",
   "metadata": {},
   "source": [
    "Can there be an `f` such that applying it twice returns `x` and once returns `y`?"
   ]
  },
  {
   "cell_type": "code",
   "execution_count": 133,
   "metadata": {},
   "outputs": [
    {
     "name": "stdout",
     "output_type": "stream",
     "text": [
      "[x = 0, y = 1, f = [1 -> 0, else -> 1]]\n"
     ]
    }
   ],
   "source": [
    "solve(f(f(x)) == x, f(x) == y, x != y)"
   ]
  },
  {
   "cell_type": "markdown",
   "metadata": {},
   "source": [
    "Evaluating solution:"
   ]
  },
  {
   "cell_type": "code",
   "execution_count": 134,
   "metadata": {},
   "outputs": [],
   "source": [
    "s = Solver()\n",
    "s.add(f(f(x)) == x, f(x) == y, x != y)"
   ]
  },
  {
   "cell_type": "code",
   "execution_count": 135,
   "metadata": {},
   "outputs": [
    {
     "data": {
      "text/html": [
       "<b>sat</b>"
      ],
      "text/plain": [
       "sat"
      ]
     },
     "execution_count": 135,
     "metadata": {},
     "output_type": "execute_result"
    }
   ],
   "source": [
    "s.check()"
   ]
  },
  {
   "cell_type": "code",
   "execution_count": 136,
   "metadata": {},
   "outputs": [
    {
     "data": {
      "text/html": [
       "[x = 0, y = 1, f = [1 &rarr; 0, else &rarr; 1]]"
      ],
      "text/plain": [
       "[x = 0, y = 1, f = [1 -> 0, else -> 1]]"
      ]
     },
     "execution_count": 136,
     "metadata": {},
     "output_type": "execute_result"
    }
   ],
   "source": [
    "m = s.model()\n",
    "m"
   ]
  },
  {
   "cell_type": "code",
   "execution_count": 144,
   "metadata": {},
   "outputs": [
    {
     "name": "stdout",
     "output_type": "stream",
     "text": [
      "The value of x is 0\n",
      "f(x) is 1\n",
      "f(f(x)) is 0\n",
      "\n",
      "\n",
      "The value of y is 1\n",
      "f(y) is 0\n",
      "f(f(y)) is 1\n"
     ]
    }
   ],
   "source": [
    "print(f\"The value of x is {m.evaluate(x)}\")\n",
    "print(f\"f(x) is {m.evaluate(f(x))}\")\n",
    "print(f\"f(f(x)) is {m.evaluate(f(f(x)))}\")\n",
    "\n",
    "print(\"\\n\")\n",
    "\n",
    "print(f\"The value of y is {m.evaluate(y)}\")\n",
    "print(f\"f(y) is {m.evaluate(f(y))}\")\n",
    "print(f\"f(f(y)) is {m.evaluate(f(f(y)))}\")"
   ]
  },
  {
   "cell_type": "code",
   "execution_count": 146,
   "metadata": {},
   "outputs": [
    {
     "name": "stdout",
     "output_type": "stream",
     "text": [
      "f(10) is 1\n",
      "f(f(10)) is 0\n"
     ]
    }
   ],
   "source": [
    "print(f\"f(10) is {m.evaluate(f(10))}\")\n",
    "print(f\"f(f(10)) is {m.evaluate(f(f(10)))}\")"
   ]
  },
  {
   "cell_type": "markdown",
   "metadata": {},
   "source": [
    "# Vector Datatype"
   ]
  },
  {
   "cell_type": "code",
   "execution_count": 148,
   "metadata": {},
   "outputs": [
    {
     "name": "stdout",
     "output_type": "stream",
     "text": [
      "[x__0, x__1, x__2, x__3, x__4]\n",
      "[y__0, y__1, y__2, y__3, y__4]\n",
      "[p__0, p__1, p__2, p__3, p__4]\n",
      "[y__0**2, y__1**2, y__2**2, y__3**2, y__4**2]\n",
      "y__0**2 + y__1**2 + y__2**2 + y__3**2 + y__4**2\n"
     ]
    }
   ],
   "source": [
    "X = IntVector('x', 5)\n",
    "Y = RealVector('y', 5)\n",
    "P = BoolVector('p', 5)\n",
    "print(X)\n",
    "print(Y)\n",
    "print(P)\n",
    "print([ y**2 for y in Y ])\n",
    "print(Sum([ y**2 for y in Y ]))"
   ]
  },
  {
   "cell_type": "markdown",
   "metadata": {},
   "source": [
    "# Proving A Claim"
   ]
  },
  {
   "cell_type": "code",
   "execution_count": 152,
   "metadata": {},
   "outputs": [
    {
     "name": "stdout",
     "output_type": "stream",
     "text": [
      "proved\n"
     ]
    }
   ],
   "source": [
    "x      = BitVec('x', 32)\n",
    "y      = BitVec('y', 32)\n",
    "\n",
    "# Claim: (x ^ y) < 0 iff x and y have opposite signs\n",
    "trick  = (x ^ y) < 0\n",
    "\n",
    "# Naive way to check if x and y have opposite signs\n",
    "opposite = Or(And(x < 0, y >= 0),\n",
    "              And(x >= 0, y < 0))\n",
    "\n",
    "prove(trick == opposite)"
   ]
  },
  {
   "cell_type": "markdown",
   "metadata": {},
   "source": [
    "# Further Reading\n",
    "\n",
    "* https://github.com/Z3Prover/z3/tree/master/examples/python/tutorial/jupyter"
   ]
  }
 ],
 "metadata": {
  "kernelspec": {
   "display_name": "Python 3",
   "language": "python",
   "name": "python3"
  },
  "language_info": {
   "codemirror_mode": {
    "name": "ipython",
    "version": 3
   },
   "file_extension": ".py",
   "mimetype": "text/x-python",
   "name": "python",
   "nbconvert_exporter": "python",
   "pygments_lexer": "ipython3",
   "version": "3.8.5"
  }
 },
 "nbformat": 4,
 "nbformat_minor": 4
}
