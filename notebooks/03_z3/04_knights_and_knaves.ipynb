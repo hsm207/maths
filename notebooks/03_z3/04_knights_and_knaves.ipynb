{
 "cells": [
  {
   "cell_type": "code",
   "execution_count": 1,
   "metadata": {},
   "outputs": [],
   "source": [
    "from z3 import *"
   ]
  },
  {
   "cell_type": "markdown",
   "metadata": {},
   "source": [
    "# Knights and Knaves, Part 1\n",
    "Source: https://www.popularmechanics.com/science/math/a14382121/riddle-of-the-week-43-knights-and-knaves-part-1/"
   ]
  },
  {
   "attachments": {
    "image.png": {
     "image/png": "[encoded data removed]"
    }
   },
   "cell_type": "markdown",
   "metadata": {},
   "source": [
    "![image.png](attachment:image.png)"
   ]
  },
  {
   "cell_type": "code",
   "execution_count": 2,
   "metadata": {},
   "outputs": [],
   "source": [
    "Object = DeclareSort('Object')\n",
    "\n",
    "isKnight = Function('isKnight', Object, BoolSort())\n",
    "isLiar = Function('isLiar', Object, BoolSort())\n",
    "\n",
    "# model the fact that all knights tell the truth\n",
    "x = Const('x', Object)\n",
    "all_knights_tell_truth = ForAll([x], isKnight(x) == Not(isLiar(x)))\n",
    "\n",
    "# model the two people\n",
    "p1 = Const('person1', Object)\n",
    "p2 = Const('person2', Object)\n",
    "\n",
    "# model p1 saying they are both knaves\n",
    "both_knaves = And(Not(isKnight(p1)), Not(isKnight(p2)))\n",
    "p1_say_both_knaves = Implies(isKnight(p1), both_knaves)"
   ]
  },
  {
   "cell_type": "code",
   "execution_count": 3,
   "metadata": {},
   "outputs": [],
   "source": [
    "s = Solver()"
   ]
  },
  {
   "cell_type": "code",
   "execution_count": 4,
   "metadata": {},
   "outputs": [
    {
     "data": {
      "text/html": [
       "<b>sat</b>"
      ],
      "text/plain": [
       "sat"
      ]
     },
     "execution_count": 4,
     "metadata": {},
     "output_type": "execute_result"
    }
   ],
   "source": [
    "s.add(all_knights_tell_truth)\n",
    "s.add(p1_say_both_knaves)\n",
    "s.check()"
   ]
  },
  {
   "cell_type": "code",
   "execution_count": 5,
   "metadata": {},
   "outputs": [
    {
     "data": {
      "text/html": [
       "<b>unsat</b>"
      ],
      "text/plain": [
       "unsat"
      ]
     },
     "execution_count": 5,
     "metadata": {},
     "output_type": "execute_result"
    }
   ],
   "source": [
    "# if we assume that p1 is a knight ...\n",
    "s.push()\n",
    "s.add(isKnight(p1) == True)\n",
    "s.check()"
   ]
  },
  {
   "cell_type": "code",
   "execution_count": 6,
   "metadata": {},
   "outputs": [
    {
     "data": {
      "text/html": [
       "<b>sat</b>"
      ],
      "text/plain": [
       "sat"
      ]
     },
     "execution_count": 6,
     "metadata": {},
     "output_type": "execute_result"
    }
   ],
   "source": [
    "# if we assume p1 is a knave\n",
    "s.pop()\n",
    "s.push()\n",
    "s.add(Not(isKnight(p1)) == True)\n",
    "s.check()"
   ]
  },
  {
   "cell_type": "code",
   "execution_count": 7,
   "metadata": {},
   "outputs": [
    {
     "name": "stdout",
     "output_type": "stream",
     "text": [
      "P1 is a knight: False\n",
      "P2 is a knight: False\n"
     ]
    }
   ],
   "source": [
    "m = s.model()\n",
    "print(f\"P1 is a knight: {m.evaluate(isKnight(p1))}\")\n",
    "print(f\"P2 is a knight: {m.evaluate(isKnight(p2))}\")"
   ]
  },
  {
   "cell_type": "code",
   "execution_count": 8,
   "metadata": {},
   "outputs": [
    {
     "data": {
      "text/html": [
       "<b>sat</b>"
      ],
      "text/plain": [
       "sat"
      ]
     },
     "execution_count": 8,
     "metadata": {},
     "output_type": "execute_result"
    }
   ],
   "source": [
    "# if we assume p1 is a knave and p2 is a knight\n",
    "s.pop()\n",
    "s.add(isKnight(p1) == False, isKnight(p2) == True)\n",
    "s.check()"
   ]
  },
  {
   "cell_type": "code",
   "execution_count": 9,
   "metadata": {},
   "outputs": [
    {
     "name": "stdout",
     "output_type": "stream",
     "text": [
      "P1 is a knight: False\n",
      "P2 is a knight: True\n"
     ]
    }
   ],
   "source": [
    "m = s.model()\n",
    "print(f\"P1 is a knight: {m.evaluate(isKnight(p1))}\")\n",
    "print(f\"P2 is a knight: {m.evaluate(isKnight(p2))}\")"
   ]
  },
  {
   "cell_type": "markdown",
   "metadata": {},
   "source": [
    "So, person 1 is definitely a knave but person 2 could be a knight or a knave."
   ]
  },
  {
   "cell_type": "markdown",
   "metadata": {},
   "source": [
    "# Knights and Knaves, Part 2\n",
    "Source: https://www.popularmechanics.com/science/math/a14435655/riddle-of-the-week-44-knights-and-knaves-part-2/"
   ]
  },
  {
   "attachments": {
    "image-2.png": {
     "image/png": "[encoded data removed]"
    }
   },
   "cell_type": "markdown",
   "metadata": {},
   "source": [
    "![image-2.png](attachment:image-2.png)"
   ]
  },
  {
   "cell_type": "code",
   "execution_count": 10,
   "metadata": {},
   "outputs": [],
   "source": [
    "Object = DeclareSort('Object')\n",
    "\n",
    "isKnight = Function('isKnight', Object, BoolSort())\n",
    "isLiar = Function('isLiar', Object, BoolSort())\n",
    "\n",
    "# model the fact that all knights tell the truth\n",
    "x = Const('x', Object)\n",
    "all_knights_tell_truth = ForAll([x], isKnight(x) == Not(isLiar(x)))\n",
    "\n",
    "# model the two people\n",
    "p1 = Const('person1', Object)\n",
    "p2 = Const('person2', Object)\n",
    "\n",
    "# model p1 says p2 is a knave\n",
    "p1_claim_p2_is_knave = Implies(isKnight(p1), Not(isKnight(p2)))\n",
    "\n",
    "# model p2 saying neither of them is a knave i.e. both are knights\n",
    "p2_claim_both_knights = Implies(isKnight(p2), And(isKnight(p1), isKnight(p2)))"
   ]
  },
  {
   "cell_type": "code",
   "execution_count": 11,
   "metadata": {},
   "outputs": [
    {
     "data": {
      "text/html": [
       "[&forall;x : isKnight(x) = &not;isLiar(x),\n",
       " isKnight(person1) &rArr; &not;isKnight(person2),\n",
       " isKnight(person2) &rArr; isKnight(person1) &and; isKnight(person2)]"
      ],
      "text/plain": [
       "[ForAll(x, isKnight(x) == Not(isLiar(x))),\n",
       " Implies(isKnight(person1), Not(isKnight(person2))),\n",
       " Implies(isKnight(person2),\n",
       "         And(isKnight(person1), isKnight(person2)))]"
      ]
     },
     "execution_count": 11,
     "metadata": {},
     "output_type": "execute_result"
    }
   ],
   "source": [
    "s = Solver()\n",
    "s.add(all_knights_tell_truth, p1_claim_p2_is_knave, p2_claim_both_knights)\n",
    "s"
   ]
  },
  {
   "cell_type": "code",
   "execution_count": 12,
   "metadata": {},
   "outputs": [
    {
     "data": {
      "text/html": [
       "<b>sat</b>"
      ],
      "text/plain": [
       "sat"
      ]
     },
     "execution_count": 12,
     "metadata": {},
     "output_type": "execute_result"
    }
   ],
   "source": [
    "# assume p1 is a knight\n",
    "s.push()\n",
    "s.add(isKnight(p1) == True)\n",
    "s.check()"
   ]
  },
  {
   "cell_type": "code",
   "execution_count": 13,
   "metadata": {},
   "outputs": [
    {
     "data": {
      "text/html": [
       "<b>unsat</b>"
      ],
      "text/plain": [
       "unsat"
      ]
     },
     "execution_count": 13,
     "metadata": {},
     "output_type": "execute_result"
    }
   ],
   "source": [
    "# assume p1 is a knight and p2 is a knight\n",
    "s.push()\n",
    "s.add(isKnight(p2) == True)\n",
    "s.check()"
   ]
  },
  {
   "cell_type": "code",
   "execution_count": 14,
   "metadata": {},
   "outputs": [
    {
     "data": {
      "text/html": [
       "<b>sat</b>"
      ],
      "text/plain": [
       "sat"
      ]
     },
     "execution_count": 14,
     "metadata": {},
     "output_type": "execute_result"
    }
   ],
   "source": [
    "# assume p1 is a knight and p2 is a knave\n",
    "s.pop()\n",
    "s.add(isKnight(p2) == False)\n",
    "s.check()"
   ]
  },
  {
   "cell_type": "markdown",
   "metadata": {},
   "source": [
    "Therefore, Person 1 must be a knight and Person 2 must be a knave."
   ]
  },
  {
   "attachments": {},
   "cell_type": "markdown",
   "metadata": {},
   "source": [
    "# Knights and Knaves, Part 3\n",
    "Source: https://www.popularmechanics.com/science/math/a14478700/riddle-of-the-week-45-knights-and-knaves-part-3/\n"
   ]
  },
  {
   "attachments": {
    "image.png": {
     "image/png": "[encoded data removed]"
    }
   },
   "cell_type": "markdown",
   "metadata": {},
   "source": [
    "![image.png](attachment:image.png)"
   ]
  },
  {
   "attachments": {
    "image.png": {
     "image/png": "[encoded data removed]"
    }
   },
   "cell_type": "markdown",
   "metadata": {},
   "source": [
    "![image.png](attachment:image.png)"
   ]
  },
  {
   "cell_type": "code",
   "execution_count": 15,
   "metadata": {},
   "outputs": [],
   "source": [
    "Object = DeclareSort('Object')\n",
    "\n",
    "isKnight = Function('isKnight', Object, BoolSort())\n",
    "isLiar = Function('isLiar', Object, BoolSort())\n",
    "\n",
    "# model the fact that all knights tell the truth\n",
    "x = Const('x', Object)\n",
    "all_knights_tell_truth = ForAll([x], isKnight(x) == Not(isLiar(x)))\n",
    "\n",
    "# model the people\n",
    "jim = Const('Jim', Object)\n",
    "jon = Const('Jon', Object)\n",
    "joe = Const('Joe', Object)"
   ]
  },
  {
   "cell_type": "code",
   "execution_count": 16,
   "metadata": {},
   "outputs": [],
   "source": [
    "# jim says\n",
    "joe_knave_or_jim_knave = Or(isKnight(jim), Not(isKnight(joe)))\n",
    "jim_says = Implies(isKnight(jim), joe_knave_or_jim_knave)\n",
    "\n",
    "# jon says\n",
    "jon_claim_on_jim = Implies(isKnight(jim), Not(isKnight(jon)))\n",
    "jon_says = Implies(isKnight(jon), jon_claim_on_jim)\n",
    "\n",
    "# joe\n",
    "joe_says = Implies(isKnight(jon), And(Not(isKnight(jim)), Not(isKnight(jon))))"
   ]
  },
  {
   "cell_type": "code",
   "execution_count": 17,
   "metadata": {},
   "outputs": [
    {
     "data": {
      "text/html": [
       "[&forall;x : isKnight(x) = &not;isLiar(x),\n",
       " isKnight(Jim) &rArr; isKnight(Jim) &or; &not;isKnight(Joe),\n",
       " isKnight(Jon) &rArr; (isKnight(Jim) &rArr; &not;isKnight(Jon)),\n",
       " isKnight(Jon) &rArr; &not;isKnight(Jim) &and; &not;isKnight(Jon)]"
      ],
      "text/plain": [
       "[ForAll(x, isKnight(x) == Not(isLiar(x))),\n",
       " Implies(isKnight(Jim),\n",
       "         Or(isKnight(Jim), Not(isKnight(Joe)))),\n",
       " Implies(isKnight(Jon),\n",
       "         Implies(isKnight(Jim), Not(isKnight(Jon)))),\n",
       " Implies(isKnight(Jon),\n",
       "         And(Not(isKnight(Jim)), Not(isKnight(Jon))))]"
      ]
     },
     "execution_count": 17,
     "metadata": {},
     "output_type": "execute_result"
    }
   ],
   "source": [
    "s = Solver()\n",
    "s.add(all_knights_tell_truth, jim_says, jon_says, joe_says)\n",
    "s"
   ]
  },
  {
   "cell_type": "code",
   "execution_count": 18,
   "metadata": {},
   "outputs": [
    {
     "name": "stdout",
     "output_type": "stream",
     "text": [
      "isKnight(jim): True\n",
      "isKnight(jon): False\n",
      "isKnight(joe): True\n",
      "\n",
      "\n",
      "Result: sat\n",
      "\n",
      "\n",
      "isKnight(jim): True\n",
      "isKnight(jon): False\n",
      "isKnight(joe): False\n",
      "\n",
      "\n",
      "Result: sat\n",
      "\n",
      "\n",
      "isKnight(jim): False\n",
      "isKnight(jon): False\n",
      "isKnight(joe): True\n",
      "\n",
      "\n",
      "Result: sat\n",
      "\n",
      "\n",
      "isKnight(jim): False\n",
      "isKnight(jon): False\n",
      "isKnight(joe): False\n",
      "\n",
      "\n",
      "Result: sat\n",
      "\n",
      "\n"
     ]
    }
   ],
   "source": [
    "from itertools import product\n",
    "\n",
    "\n",
    "choices = product([True, False], [True, False], [True, False])\n",
    "\n",
    "for choice in choices:\n",
    "    is_knight_jim, is_knight_jon, is_knight_joe = choice\n",
    "\n",
    "    s.push()\n",
    "    \n",
    "    s.add(isKnight(jim) == is_knight_jim, \n",
    "          isKnight(jon) == is_knight_jon, \n",
    "          isKnight(joe) == is_knight_joe)\n",
    "    result = s.check()\n",
    "    \n",
    "    if result.r == 1:\n",
    "        print(f\"isKnight(jim): {is_knight_jim}\")\n",
    "        print(f\"isKnight(jon): {is_knight_jon}\")\n",
    "        print(f\"isKnight(joe): {is_knight_joe}\")\n",
    "        print(\"\\n\")\n",
    "        print(f\"Result: {result}\")\n",
    "        print(\"\\n\")\n",
    "\n",
    "    s.pop()"
   ]
  },
  {
   "cell_type": "markdown",
   "metadata": {},
   "source": [
    "Not sure if problem is correctly modelled...."
   ]
  },
  {
   "cell_type": "code",
   "execution_count": null,
   "metadata": {},
   "outputs": [],
   "source": []
  }
 ],
 "metadata": {
  "kernelspec": {
   "display_name": "Python 3",
   "language": "python",
   "name": "python3"
  },
  "language_info": {
   "codemirror_mode": {
    "name": "ipython",
    "version": 3
   },
   "file_extension": ".py",
   "mimetype": "text/x-python",
   "name": "python",
   "nbconvert_exporter": "python",
   "pygments_lexer": "ipython3",
   "version": "3.8.5"
  }
 },
 "nbformat": 4,
 "nbformat_minor": 4
}
