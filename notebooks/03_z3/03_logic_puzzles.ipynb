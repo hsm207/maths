{
 "cells": [
  {
   "cell_type": "code",
   "execution_count": 1,
   "metadata": {},
   "outputs": [],
   "source": [
    "from z3 import *"
   ]
  },
  {
   "cell_type": "markdown",
   "metadata": {},
   "source": [
    "# Socrates"
   ]
  },
  {
   "cell_type": "markdown",
   "metadata": {},
   "source": [
    "From https://github.com/Z3Prover/z3/blob/master/examples/python/socrates.py:"
   ]
  },
  {
   "cell_type": "code",
   "execution_count": 2,
   "metadata": {},
   "outputs": [
    {
     "data": {
      "text/html": [
       "<b>sat</b>"
      ],
      "text/plain": [
       "sat"
      ]
     },
     "execution_count": 2,
     "metadata": {},
     "output_type": "execute_result"
    }
   ],
   "source": [
    "############################################\n",
    "# Copyright (c) Microsoft Corporation. All Rights Reserved.\n",
    "#\n",
    "# all humans are mortal\n",
    "# Socrates is a human\n",
    "# so Socrates mortal \n",
    "############################################\n",
    "\n",
    "Object = DeclareSort('Object')\n",
    "\n",
    "Human = Function('Human', Object, BoolSort())\n",
    "Mortal = Function('Mortal', Object, BoolSort())\n",
    "\n",
    "# a well known philosopher \n",
    "socrates = Const('socrates', Object)\n",
    "\n",
    "# free variables used in forall must be declared Const in python\n",
    "x = Const('x', Object)\n",
    "\n",
    "axioms = [ForAll([x], Implies(Human(x), Mortal(x))), \n",
    "          Human(socrates)]\n",
    "\n",
    "\n",
    "s = Solver()\n",
    "s.add(axioms)\n",
    "\n",
    "s.check() # prints sat so axioms are coherent"
   ]
  },
  {
   "cell_type": "code",
   "execution_count": 6,
   "metadata": {},
   "outputs": [
    {
     "data": {
      "text/html": [
       "[socrates = Object!val!0,\n",
       " Human = [else &rarr; True],\n",
       " Mortal = [else &rarr; True]]"
      ],
      "text/plain": [
       "[socrates = Object!val!0,\n",
       " Human = [else -> True],\n",
       " Mortal = [else -> True]]"
      ]
     },
     "execution_count": 6,
     "metadata": {},
     "output_type": "execute_result"
    }
   ],
   "source": [
    "m = s.model()\n",
    "m"
   ]
  },
  {
   "cell_type": "code",
   "execution_count": 7,
   "metadata": {},
   "outputs": [
    {
     "name": "stdout",
     "output_type": "stream",
     "text": [
      "is Socrates human?: True\n",
      "is Socrates mortal?: True\n"
     ]
    }
   ],
   "source": [
    "print(f\"is Socrates human?: {m.evaluate(Human(socrates))}\")\n",
    "print(f\"is Socrates mortal?: {m.evaluate(Mortal(socrates))}\")"
   ]
  },
  {
   "cell_type": "code",
   "execution_count": 8,
   "metadata": {},
   "outputs": [
    {
     "data": {
      "text/html": [
       "<b>unsat</b>"
      ],
      "text/plain": [
       "unsat"
      ]
     },
     "execution_count": 8,
     "metadata": {},
     "output_type": "execute_result"
    }
   ],
   "source": [
    "# classical refutation\n",
    "s.add(Not(Mortal(socrates)))\n",
    "\n",
    "s.check() # prints unsat so socrates is Mortal"
   ]
  }
 ],
 "metadata": {
  "kernelspec": {
   "display_name": "Python 3",
   "language": "python",
   "name": "python3"
  },
  "language_info": {
   "codemirror_mode": {
    "name": "ipython",
    "version": 3
   },
   "file_extension": ".py",
   "mimetype": "text/x-python",
   "name": "python",
   "nbconvert_exporter": "python",
   "pygments_lexer": "ipython3",
   "version": "3.8.5"
  }
 },
 "nbformat": 4,
 "nbformat_minor": 4
}
