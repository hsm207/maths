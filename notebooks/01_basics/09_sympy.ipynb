{
 "cells": [
  {
   "cell_type": "code",
   "execution_count": 1,
   "metadata": {},
   "outputs": [],
   "source": [
    "%display latex"
   ]
  },
  {
   "cell_type": "code",
   "execution_count": 2,
   "metadata": {},
   "outputs": [
    {
     "data": {
      "text/html": [
       "<html><script type=\"math/tex; mode=display\">\\newcommand{\\Bold}[1]{\\mathbf{#1}}1.7</script></html>"
      ],
      "text/plain": [
       "'1.7'"
      ]
     },
     "execution_count": 2,
     "metadata": {},
     "output_type": "execute_result"
    }
   ],
   "source": [
    "import sympy\n",
    "sympy.__version__"
   ]
  },
  {
   "cell_type": "markdown",
   "metadata": {},
   "source": [
    "# Converting Sage Expressions to Sympy"
   ]
  },
  {
   "cell_type": "code",
   "execution_count": 3,
   "metadata": {},
   "outputs": [
    {
     "data": {
      "text/html": [
       "<html><script type=\"math/tex; mode=display\">\\newcommand{\\Bold}[1]{\\mathbf{#1}}2 \\, x^{2} + 3 \\, x + 1</script></html>"
      ],
      "text/plain": [
       "2*x^2 + 3*x + 1"
      ]
     },
     "execution_count": 3,
     "metadata": {},
     "output_type": "execute_result"
    }
   ],
   "source": [
    "expr1 = 2*x^2 + 3*x + 1\n",
    "expr1"
   ]
  },
  {
   "cell_type": "code",
   "execution_count": 4,
   "metadata": {},
   "outputs": [
    {
     "data": {
      "text/html": [
       "<html><script type=\"math/tex; mode=display\">\\newcommand{\\Bold}[1]{\\mathbf{#1}}\\verb|<class|\\phantom{\\verb!x!}\\verb|'sage.symbolic.expression.Expression'>|</script></html>"
      ],
      "text/plain": [
       "<class 'sage.symbolic.expression.Expression'>"
      ]
     },
     "execution_count": 4,
     "metadata": {},
     "output_type": "execute_result"
    }
   ],
   "source": [
    "type(expr1)"
   ]
  },
  {
   "cell_type": "code",
   "execution_count": 5,
   "metadata": {},
   "outputs": [
    {
     "data": {
      "text/latex": [
       "$\\displaystyle 2 x^{2} + 3 x + 1$"
      ],
      "text/plain": [
       "2*x**2 + 3*x + 1"
      ]
     },
     "execution_count": 5,
     "metadata": {},
     "output_type": "execute_result"
    }
   ],
   "source": [
    "expr2 = expr1._sympy_()\n",
    "expr2"
   ]
  },
  {
   "cell_type": "code",
   "execution_count": 6,
   "metadata": {},
   "outputs": [
    {
     "data": {
      "text/html": [
       "<html><script type=\"math/tex; mode=display\">\\newcommand{\\Bold}[1]{\\mathbf{#1}}\\verb|<class|\\phantom{\\verb!x!}\\verb|'sympy.core.add.Add'>|</script></html>"
      ],
      "text/plain": [
       "<class 'sympy.core.add.Add'>"
      ]
     },
     "execution_count": 6,
     "metadata": {},
     "output_type": "execute_result"
    }
   ],
   "source": [
    "type(expr2)"
   ]
  },
  {
   "cell_type": "markdown",
   "metadata": {},
   "source": [
    "# Converting Sympy Expressions to Sage"
   ]
  },
  {
   "cell_type": "code",
   "execution_count": 7,
   "metadata": {},
   "outputs": [
    {
     "data": {
      "text/html": [
       "<html><script type=\"math/tex; mode=display\">\\newcommand{\\Bold}[1]{\\mathbf{#1}}2 \\, x^{2} + 3 \\, x + 1</script></html>"
      ],
      "text/plain": [
       "2*x^2 + 3*x + 1"
      ]
     },
     "execution_count": 7,
     "metadata": {},
     "output_type": "execute_result"
    }
   ],
   "source": [
    "expr3 = expr2._sage_()\n",
    "expr3"
   ]
  },
  {
   "cell_type": "code",
   "execution_count": 8,
   "metadata": {},
   "outputs": [
    {
     "data": {
      "text/html": [
       "<html><script type=\"math/tex; mode=display\">\\newcommand{\\Bold}[1]{\\mathbf{#1}}\\verb|<class|\\phantom{\\verb!x!}\\verb|'sage.symbolic.expression.Expression'>|</script></html>"
      ],
      "text/plain": [
       "<class 'sage.symbolic.expression.Expression'>"
      ]
     },
     "execution_count": 8,
     "metadata": {},
     "output_type": "execute_result"
    }
   ],
   "source": [
    "type(expr3)"
   ]
  },
  {
   "cell_type": "code",
   "execution_count": 9,
   "metadata": {},
   "outputs": [
    {
     "data": {
      "text/html": [
       "<html><script type=\"math/tex; mode=display\">\\newcommand{\\Bold}[1]{\\mathbf{#1}}\\mathrm{True}</script></html>"
      ],
      "text/plain": [
       "True"
      ]
     },
     "execution_count": 9,
     "metadata": {},
     "output_type": "execute_result"
    }
   ],
   "source": [
    "bool(expr1 == expr3)"
   ]
  },
  {
   "cell_type": "code",
   "execution_count": 10,
   "metadata": {},
   "outputs": [
    {
     "data": {
      "text/html": [
       "<html><script type=\"math/tex; mode=display\">\\newcommand{\\Bold}[1]{\\mathbf{#1}}\\mathrm{True}</script></html>"
      ],
      "text/plain": [
       "True"
      ]
     },
     "execution_count": 10,
     "metadata": {},
     "output_type": "execute_result"
    }
   ],
   "source": [
    "bool(expr1 == expr2)"
   ]
  },
  {
   "cell_type": "markdown",
   "metadata": {},
   "source": [
    "# Testing"
   ]
  },
  {
   "cell_type": "markdown",
   "metadata": {},
   "source": [
    "In case sympy upgrade not compatible with sagemath:"
   ]
  },
  {
   "cell_type": "code",
   "execution_count": 11,
   "metadata": {},
   "outputs": [],
   "source": [
    "from sage.interfaces.sympy import test_all\n",
    "test_all()"
   ]
  },
  {
   "cell_type": "markdown",
   "metadata": {},
   "source": [
    "# Advanced Expression Manipulation"
   ]
  },
  {
   "cell_type": "markdown",
   "metadata": {},
   "source": [
    "See [here](https://docs.sympy.org/latest/tutorial/manipulation.html) for more details."
   ]
  },
  {
   "cell_type": "markdown",
   "metadata": {},
   "source": [
    "## To visualize the expression tree"
   ]
  },
  {
   "cell_type": "code",
   "execution_count": 12,
   "metadata": {},
   "outputs": [],
   "source": [
    "from graphviz import Source"
   ]
  },
  {
   "cell_type": "code",
   "execution_count": 13,
   "metadata": {},
   "outputs": [],
   "source": [
    "x, y = var('x y')"
   ]
  },
  {
   "cell_type": "code",
   "execution_count": 14,
   "metadata": {},
   "outputs": [
    {
     "data": {
      "text/html": [
       "<html><script type=\"math/tex; mode=display\">\\newcommand{\\Bold}[1]{\\mathbf{#1}}x^{2} + x y</script></html>"
      ],
      "text/plain": [
       "x^2 + x*y"
      ]
     },
     "execution_count": 14,
     "metadata": {},
     "output_type": "execute_result"
    }
   ],
   "source": [
    "expr = x^2 + x * y\n",
    "expr"
   ]
  },
  {
   "cell_type": "code",
   "execution_count": 15,
   "metadata": {},
   "outputs": [
    {
     "data": {
      "text/html": [
       "<html><script type=\"math/tex; mode=display\">\\newcommand{\\Bold}[1]{\\mathbf{#1}}\\verb|Add(Pow(Symbol('x'),|\\phantom{\\verb!x!}\\verb|Integer(2)),|\\phantom{\\verb!x!}\\verb|Mul(Symbol('x'),|\\phantom{\\verb!x!}\\verb|Symbol('y')))|</script></html>"
      ],
      "text/plain": [
       "\"Add(Pow(Symbol('x'), Integer(2)), Mul(Symbol('x'), Symbol('y')))\""
      ]
     },
     "execution_count": 15,
     "metadata": {},
     "output_type": "execute_result"
    }
   ],
   "source": [
    "sympy.srepr(expr._sympy_())"
   ]
  },
  {
   "cell_type": "code",
   "execution_count": 16,
   "metadata": {},
   "outputs": [
    {
     "data": {
      "image/svg+xml": [
       "<?xml version=\"1.0\" encoding=\"UTF-8\" standalone=\"no\"?>\n",
       "<!DOCTYPE svg PUBLIC \"-//W3C//DTD SVG 1.1//EN\"\n",
       " \"http://www.w3.org/Graphics/SVG/1.1/DTD/svg11.dtd\">\n",
       "<!-- Generated by graphviz version 2.38.0 (20140413.2041)\n",
       " -->\n",
       "<!-- Title: %3 Pages: 1 -->\n",
       "<svg width=\"280pt\" height=\"188pt\"\n",
       " viewBox=\"0.00 0.00 280.00 188.00\" xmlns=\"http://www.w3.org/2000/svg\" xmlns:xlink=\"http://www.w3.org/1999/xlink\">\n",
       "<g id=\"graph0\" class=\"graph\" transform=\"scale(1 1) rotate(0) translate(4 184)\">\n",
       "<title>%3</title>\n",
       "<polygon fill=\"white\" stroke=\"none\" points=\"-4,4 -4,-184 276,-184 276,4 -4,4\"/>\n",
       "<!-- Add(Pow(Symbol(&#39;x&#39;), Integer(2)), Mul(Symbol(&#39;x&#39;), Symbol(&#39;y&#39;)))_() -->\n",
       "<g id=\"node1\" class=\"node\"><title>Add(Pow(Symbol(&#39;x&#39;), Integer(2)), Mul(Symbol(&#39;x&#39;), Symbol(&#39;y&#39;)))_()</title>\n",
       "<ellipse fill=\"none\" stroke=\"black\" cx=\"135\" cy=\"-162\" rx=\"29.4969\" ry=\"18\"/>\n",
       "<text text-anchor=\"middle\" x=\"135\" y=\"-158.3\" font-family=\"Times,serif\" font-size=\"14.00\">Add</text>\n",
       "</g>\n",
       "<!-- Pow(Symbol(&#39;x&#39;), Integer(2))_(0,) -->\n",
       "<g id=\"node2\" class=\"node\"><title>Pow(Symbol(&#39;x&#39;), Integer(2))_(0,)</title>\n",
       "<ellipse fill=\"none\" stroke=\"black\" cx=\"97\" cy=\"-90\" rx=\"29.795\" ry=\"18\"/>\n",
       "<text text-anchor=\"middle\" x=\"97\" y=\"-86.3\" font-family=\"Times,serif\" font-size=\"14.00\">Pow</text>\n",
       "</g>\n",
       "<!-- Add(Pow(Symbol(&#39;x&#39;), Integer(2)), Mul(Symbol(&#39;x&#39;), Symbol(&#39;y&#39;)))_()&#45;&gt;Pow(Symbol(&#39;x&#39;), Integer(2))_(0,) -->\n",
       "<g id=\"edge1\" class=\"edge\"><title>Add(Pow(Symbol(&#39;x&#39;), Integer(2)), Mul(Symbol(&#39;x&#39;), Symbol(&#39;y&#39;)))_()&#45;&gt;Pow(Symbol(&#39;x&#39;), Integer(2))_(0,)</title>\n",
       "<path fill=\"none\" stroke=\"black\" d=\"M126.187,-144.765C121.648,-136.404 116.009,-126.016 110.9,-116.606\"/>\n",
       "<polygon fill=\"black\" stroke=\"black\" points=\"113.877,-114.752 106.03,-107.633 107.725,-118.092 113.877,-114.752\"/>\n",
       "</g>\n",
       "<!-- Mul(Symbol(&#39;x&#39;), Symbol(&#39;y&#39;))_(1,) -->\n",
       "<g id=\"node5\" class=\"node\"><title>Mul(Symbol(&#39;x&#39;), Symbol(&#39;y&#39;))_(1,)</title>\n",
       "<ellipse fill=\"none\" stroke=\"black\" cx=\"174\" cy=\"-90\" rx=\"29.4969\" ry=\"18\"/>\n",
       "<text text-anchor=\"middle\" x=\"174\" y=\"-86.3\" font-family=\"Times,serif\" font-size=\"14.00\">Mul</text>\n",
       "</g>\n",
       "<!-- Add(Pow(Symbol(&#39;x&#39;), Integer(2)), Mul(Symbol(&#39;x&#39;), Symbol(&#39;y&#39;)))_()&#45;&gt;Mul(Symbol(&#39;x&#39;), Symbol(&#39;y&#39;))_(1,) -->\n",
       "<g id=\"edge2\" class=\"edge\"><title>Add(Pow(Symbol(&#39;x&#39;), Integer(2)), Mul(Symbol(&#39;x&#39;), Symbol(&#39;y&#39;)))_()&#45;&gt;Mul(Symbol(&#39;x&#39;), Symbol(&#39;y&#39;))_(1,)</title>\n",
       "<path fill=\"none\" stroke=\"black\" d=\"M144.045,-144.765C148.82,-136.195 154.782,-125.494 160.127,-115.9\"/>\n",
       "<polygon fill=\"black\" stroke=\"black\" points=\"163.194,-117.586 165.004,-107.147 157.079,-114.18 163.194,-117.586\"/>\n",
       "</g>\n",
       "<!-- Symbol(&#39;x&#39;)_(0, 0) -->\n",
       "<g id=\"node3\" class=\"node\"><title>Symbol(&#39;x&#39;)_(0, 0)</title>\n",
       "<ellipse fill=\"none\" stroke=\"black\" cx=\"27\" cy=\"-18\" rx=\"27\" ry=\"18\"/>\n",
       "<text text-anchor=\"middle\" x=\"27\" y=\"-14.3\" font-family=\"Times,serif\" font-size=\"14.00\">x</text>\n",
       "</g>\n",
       "<!-- Pow(Symbol(&#39;x&#39;), Integer(2))_(0,)&#45;&gt;Symbol(&#39;x&#39;)_(0, 0) -->\n",
       "<g id=\"edge3\" class=\"edge\"><title>Pow(Symbol(&#39;x&#39;), Integer(2))_(0,)&#45;&gt;Symbol(&#39;x&#39;)_(0, 0)</title>\n",
       "<path fill=\"none\" stroke=\"black\" d=\"M82.1548,-74.1548C72.3725,-64.3725 59.4037,-51.4037 48.4996,-40.4996\"/>\n",
       "<polygon fill=\"black\" stroke=\"black\" points=\"50.891,-37.9413 41.345,-33.345 45.9413,-42.891 50.891,-37.9413\"/>\n",
       "</g>\n",
       "<!-- Integer(2)_(0, 1) -->\n",
       "<g id=\"node4\" class=\"node\"><title>Integer(2)_(0, 1)</title>\n",
       "<ellipse fill=\"none\" stroke=\"black\" cx=\"99\" cy=\"-18\" rx=\"27\" ry=\"18\"/>\n",
       "<text text-anchor=\"middle\" x=\"99\" y=\"-14.3\" font-family=\"Times,serif\" font-size=\"14.00\">2</text>\n",
       "</g>\n",
       "<!-- Pow(Symbol(&#39;x&#39;), Integer(2))_(0,)&#45;&gt;Integer(2)_(0, 1) -->\n",
       "<g id=\"edge4\" class=\"edge\"><title>Pow(Symbol(&#39;x&#39;), Integer(2))_(0,)&#45;&gt;Integer(2)_(0, 1)</title>\n",
       "<path fill=\"none\" stroke=\"black\" d=\"M97.4944,-71.6966C97.7148,-63.9827 97.9796,-54.7125 98.2254,-46.1124\"/>\n",
       "<polygon fill=\"black\" stroke=\"black\" points=\"101.724,-46.2002 98.5113,-36.1043 94.727,-46.0003 101.724,-46.2002\"/>\n",
       "</g>\n",
       "<!-- Symbol(&#39;x&#39;)_(1, 0) -->\n",
       "<g id=\"node6\" class=\"node\"><title>Symbol(&#39;x&#39;)_(1, 0)</title>\n",
       "<ellipse fill=\"none\" stroke=\"black\" cx=\"173\" cy=\"-18\" rx=\"27\" ry=\"18\"/>\n",
       "<text text-anchor=\"middle\" x=\"173\" y=\"-14.3\" font-family=\"Times,serif\" font-size=\"14.00\">x</text>\n",
       "</g>\n",
       "<!-- Mul(Symbol(&#39;x&#39;), Symbol(&#39;y&#39;))_(1,)&#45;&gt;Symbol(&#39;x&#39;)_(1, 0) -->\n",
       "<g id=\"edge5\" class=\"edge\"><title>Mul(Symbol(&#39;x&#39;), Symbol(&#39;y&#39;))_(1,)&#45;&gt;Symbol(&#39;x&#39;)_(1, 0)</title>\n",
       "<path fill=\"none\" stroke=\"black\" d=\"M173.753,-71.6966C173.643,-63.9827 173.51,-54.7125 173.387,-46.1124\"/>\n",
       "<polygon fill=\"black\" stroke=\"black\" points=\"176.887,-46.0533 173.244,-36.1043 169.888,-46.1533 176.887,-46.0533\"/>\n",
       "</g>\n",
       "<!-- Symbol(&#39;y&#39;)_(1, 1) -->\n",
       "<g id=\"node7\" class=\"node\"><title>Symbol(&#39;y&#39;)_(1, 1)</title>\n",
       "<ellipse fill=\"none\" stroke=\"black\" cx=\"245\" cy=\"-18\" rx=\"27\" ry=\"18\"/>\n",
       "<text text-anchor=\"middle\" x=\"245\" y=\"-14.3\" font-family=\"Times,serif\" font-size=\"14.00\">y</text>\n",
       "</g>\n",
       "<!-- Mul(Symbol(&#39;x&#39;), Symbol(&#39;y&#39;))_(1,)&#45;&gt;Symbol(&#39;y&#39;)_(1, 1) -->\n",
       "<g id=\"edge6\" class=\"edge\"><title>Mul(Symbol(&#39;x&#39;), Symbol(&#39;y&#39;))_(1,)&#45;&gt;Symbol(&#39;y&#39;)_(1, 1)</title>\n",
       "<path fill=\"none\" stroke=\"black\" d=\"M189.057,-74.1548C198.979,-64.3725 212.133,-51.4037 223.193,-40.4996\"/>\n",
       "<polygon fill=\"black\" stroke=\"black\" points=\"225.786,-42.8582 230.45,-33.345 220.872,-37.8734 225.786,-42.8582\"/>\n",
       "</g>\n",
       "</g>\n",
       "</svg>\n"
      ],
      "text/plain": [
       "<graphviz.files.Source object at 0x7fbbda51ce10>"
      ]
     },
     "execution_count": 16,
     "metadata": {},
     "output_type": "execute_result"
    }
   ],
   "source": [
    "Source(sympy.dotprint(expr._sympy_()))"
   ]
  },
  {
   "cell_type": "markdown",
   "metadata": {},
   "source": [
    "Another example:"
   ]
  },
  {
   "cell_type": "code",
   "execution_count": 17,
   "metadata": {},
   "outputs": [
    {
     "data": {
      "text/html": [
       "<html><script type=\"math/tex; mode=display\">\\newcommand{\\Bold}[1]{\\mathbf{#1}}-x^{2} + \\frac{1}{y} + \\frac{1}{2} \\, \\sin\\left(x y\\right)</script></html>"
      ],
      "text/plain": [
       "-x^2 + 1/y + 1/2*sin(x*y)"
      ]
     },
     "execution_count": 17,
     "metadata": {},
     "output_type": "execute_result"
    }
   ],
   "source": [
    "expr = sin(x*y)/2 - x^2 + 1/y\n",
    "expr"
   ]
  },
  {
   "cell_type": "code",
   "execution_count": 18,
   "metadata": {},
   "outputs": [
    {
     "data": {
      "text/html": [
       "<html><script type=\"math/tex; mode=display\">\\newcommand{\\Bold}[1]{\\mathbf{#1}}\\verb|Add(Mul(Integer(-1),|\\phantom{\\verb!x!}\\verb|Pow(Symbol('x'),|\\phantom{\\verb!x!}\\verb|Integer(2))),|\\phantom{\\verb!x!}\\verb|Mul(Rational(1,|\\phantom{\\verb!x!}\\verb|2),|\\phantom{\\verb!x!}\\verb|sin(Mul(Symbol('x'),|\\phantom{\\verb!x!}\\verb|Symbol('y')))),|\\phantom{\\verb!x!}\\verb|Pow(Symbol('y'),|\\phantom{\\verb!x!}\\verb|Integer(-1)))|</script></html>"
      ],
      "text/plain": [
       "\"Add(Mul(Integer(-1), Pow(Symbol('x'), Integer(2))), Mul(Rational(1, 2), sin(Mul(Symbol('x'), Symbol('y')))), Pow(Symbol('y'), Integer(-1)))\""
      ]
     },
     "execution_count": 18,
     "metadata": {},
     "output_type": "execute_result"
    }
   ],
   "source": [
    "sympy.srepr(expr._sympy_())"
   ]
  },
  {
   "cell_type": "code",
   "execution_count": 19,
   "metadata": {},
   "outputs": [
    {
     "data": {
      "image/svg+xml": [
       "<?xml version=\"1.0\" encoding=\"UTF-8\" standalone=\"no\"?>\n",
       "<!DOCTYPE svg PUBLIC \"-//W3C//DTD SVG 1.1//EN\"\n",
       " \"http://www.w3.org/Graphics/SVG/1.1/DTD/svg11.dtd\">\n",
       "<!-- Generated by graphviz version 2.38.0 (20140413.2041)\n",
       " -->\n",
       "<!-- Title: %3 Pages: 1 -->\n",
       "<svg width=\"840pt\" height=\"332pt\"\n",
       " viewBox=\"0.00 0.00 839.59 332.00\" xmlns=\"http://www.w3.org/2000/svg\" xmlns:xlink=\"http://www.w3.org/1999/xlink\">\n",
       "<g id=\"graph0\" class=\"graph\" transform=\"scale(1 1) rotate(0) translate(4 328)\">\n",
       "<title>%3</title>\n",
       "<polygon fill=\"white\" stroke=\"none\" points=\"-4,4 -4,-328 835.589,-328 835.589,4 -4,4\"/>\n",
       "<!-- Add(Pow(Symbol(&#39;y&#39;), Integer(&#45;1)), Mul(Rational(1, 2), sin(Mul(Symbol(&#39;x&#39;), Symbol(&#39;y&#39;)))), Mul(Integer(&#45;1), Pow(Symbol(&#39;x&#39;), Integer(2))))_() -->\n",
       "<g id=\"node1\" class=\"node\"><title>Add(Pow(Symbol(&#39;y&#39;), Integer(&#45;1)), Mul(Rational(1, 2), sin(Mul(Symbol(&#39;x&#39;), Symbol(&#39;y&#39;)))), Mul(Integer(&#45;1), Pow(Symbol(&#39;x&#39;), Integer(2))))_()</title>\n",
       "<ellipse fill=\"none\" stroke=\"black\" cx=\"414.745\" cy=\"-306\" rx=\"29.4969\" ry=\"18\"/>\n",
       "<text text-anchor=\"middle\" x=\"414.745\" y=\"-302.3\" font-family=\"Times,serif\" font-size=\"14.00\">Add</text>\n",
       "</g>\n",
       "<!-- Pow(Symbol(&#39;y&#39;), Integer(&#45;1))_(0,) -->\n",
       "<g id=\"node2\" class=\"node\"><title>Pow(Symbol(&#39;y&#39;), Integer(&#45;1))_(0,)</title>\n",
       "<ellipse fill=\"none\" stroke=\"black\" cx=\"202.745\" cy=\"-234\" rx=\"29.795\" ry=\"18\"/>\n",
       "<text text-anchor=\"middle\" x=\"202.745\" y=\"-230.3\" font-family=\"Times,serif\" font-size=\"14.00\">Pow</text>\n",
       "</g>\n",
       "<!-- Add(Pow(Symbol(&#39;y&#39;), Integer(&#45;1)), Mul(Rational(1, 2), sin(Mul(Symbol(&#39;x&#39;), Symbol(&#39;y&#39;)))), Mul(Integer(&#45;1), Pow(Symbol(&#39;x&#39;), Integer(2))))_()&#45;&gt;Pow(Symbol(&#39;y&#39;), Integer(&#45;1))_(0,) -->\n",
       "<g id=\"edge1\" class=\"edge\"><title>Add(Pow(Symbol(&#39;y&#39;), Integer(&#45;1)), Mul(Rational(1, 2), sin(Mul(Symbol(&#39;x&#39;), Symbol(&#39;y&#39;)))), Mul(Integer(&#45;1), Pow(Symbol(&#39;x&#39;), Integer(2))))_()&#45;&gt;Pow(Symbol(&#39;y&#39;), Integer(&#45;1))_(0,)</title>\n",
       "<path fill=\"none\" stroke=\"black\" d=\"M389.593,-296.695C352.023,-284.29 281.092,-260.869 238.254,-246.725\"/>\n",
       "<polygon fill=\"black\" stroke=\"black\" points=\"239.118,-243.324 228.525,-243.512 236.923,-249.971 239.118,-243.324\"/>\n",
       "</g>\n",
       "<!-- Mul(Rational(1, 2), sin(Mul(Symbol(&#39;x&#39;), Symbol(&#39;y&#39;))))_(1,) -->\n",
       "<g id=\"node5\" class=\"node\"><title>Mul(Rational(1, 2), sin(Mul(Symbol(&#39;x&#39;), Symbol(&#39;y&#39;))))_(1,)</title>\n",
       "<ellipse fill=\"none\" stroke=\"black\" cx=\"414.745\" cy=\"-234\" rx=\"29.4969\" ry=\"18\"/>\n",
       "<text text-anchor=\"middle\" x=\"414.745\" y=\"-230.3\" font-family=\"Times,serif\" font-size=\"14.00\">Mul</text>\n",
       "</g>\n",
       "<!-- Add(Pow(Symbol(&#39;y&#39;), Integer(&#45;1)), Mul(Rational(1, 2), sin(Mul(Symbol(&#39;x&#39;), Symbol(&#39;y&#39;)))), Mul(Integer(&#45;1), Pow(Symbol(&#39;x&#39;), Integer(2))))_()&#45;&gt;Mul(Rational(1, 2), sin(Mul(Symbol(&#39;x&#39;), Symbol(&#39;y&#39;))))_(1,) -->\n",
       "<g id=\"edge2\" class=\"edge\"><title>Add(Pow(Symbol(&#39;y&#39;), Integer(&#45;1)), Mul(Rational(1, 2), sin(Mul(Symbol(&#39;x&#39;), Symbol(&#39;y&#39;)))), Mul(Integer(&#45;1), Pow(Symbol(&#39;x&#39;), Integer(2))))_()&#45;&gt;Mul(Rational(1, 2), sin(Mul(Symbol(&#39;x&#39;), Symbol(&#39;y&#39;))))_(1,)</title>\n",
       "<path fill=\"none\" stroke=\"black\" d=\"M414.745,-287.697C414.745,-279.983 414.745,-270.712 414.745,-262.112\"/>\n",
       "<polygon fill=\"black\" stroke=\"black\" points=\"418.245,-262.104 414.745,-252.104 411.245,-262.104 418.245,-262.104\"/>\n",
       "</g>\n",
       "<!-- Mul(Integer(&#45;1), Pow(Symbol(&#39;x&#39;), Integer(2)))_(2,) -->\n",
       "<g id=\"node11\" class=\"node\"><title>Mul(Integer(&#45;1), Pow(Symbol(&#39;x&#39;), Integer(2)))_(2,)</title>\n",
       "<ellipse fill=\"none\" stroke=\"black\" cx=\"579.745\" cy=\"-234\" rx=\"29.4969\" ry=\"18\"/>\n",
       "<text text-anchor=\"middle\" x=\"579.745\" y=\"-230.3\" font-family=\"Times,serif\" font-size=\"14.00\">Mul</text>\n",
       "</g>\n",
       "<!-- Add(Pow(Symbol(&#39;y&#39;), Integer(&#45;1)), Mul(Rational(1, 2), sin(Mul(Symbol(&#39;x&#39;), Symbol(&#39;y&#39;)))), Mul(Integer(&#45;1), Pow(Symbol(&#39;x&#39;), Integer(2))))_()&#45;&gt;Mul(Integer(&#45;1), Pow(Symbol(&#39;x&#39;), Integer(2)))_(2,) -->\n",
       "<g id=\"edge3\" class=\"edge\"><title>Add(Pow(Symbol(&#39;y&#39;), Integer(&#45;1)), Mul(Rational(1, 2), sin(Mul(Symbol(&#39;x&#39;), Symbol(&#39;y&#39;)))), Mul(Integer(&#45;1), Pow(Symbol(&#39;x&#39;), Integer(2))))_()&#45;&gt;Mul(Integer(&#45;1), Pow(Symbol(&#39;x&#39;), Integer(2)))_(2,)</title>\n",
       "<path fill=\"none\" stroke=\"black\" d=\"M438.385,-294.971C466.892,-282.877 514.962,-262.484 547.019,-248.884\"/>\n",
       "<polygon fill=\"black\" stroke=\"black\" points=\"548.576,-252.025 556.414,-244.898 545.842,-245.581 548.576,-252.025\"/>\n",
       "</g>\n",
       "<!-- Symbol(&#39;y&#39;)_(0, 0) -->\n",
       "<g id=\"node3\" class=\"node\"><title>Symbol(&#39;y&#39;)_(0, 0)</title>\n",
       "<ellipse fill=\"none\" stroke=\"black\" cx=\"61.7445\" cy=\"-162\" rx=\"61.99\" ry=\"18\"/>\n",
       "<text text-anchor=\"middle\" x=\"61.7445\" y=\"-158.3\" font-family=\"Times,serif\" font-size=\"14.00\">Symbol(&#39;y&#39;)</text>\n",
       "</g>\n",
       "<!-- Pow(Symbol(&#39;y&#39;), Integer(&#45;1))_(0,)&#45;&gt;Symbol(&#39;y&#39;)_(0, 0) -->\n",
       "<g id=\"edge4\" class=\"edge\"><title>Pow(Symbol(&#39;y&#39;), Integer(&#45;1))_(0,)&#45;&gt;Symbol(&#39;y&#39;)_(0, 0)</title>\n",
       "<path fill=\"none\" stroke=\"black\" d=\"M180.403,-221.908C159.032,-211.299 126.354,-195.075 100.697,-182.338\"/>\n",
       "<polygon fill=\"black\" stroke=\"black\" points=\"102.11,-179.132 91.5965,-177.82 98.9971,-185.402 102.11,-179.132\"/>\n",
       "</g>\n",
       "<!-- Integer(&#45;1)_(0, 1) -->\n",
       "<g id=\"node4\" class=\"node\"><title>Integer(&#45;1)_(0, 1)</title>\n",
       "<ellipse fill=\"none\" stroke=\"black\" cx=\"202.745\" cy=\"-162\" rx=\"61.1893\" ry=\"18\"/>\n",
       "<text text-anchor=\"middle\" x=\"202.745\" y=\"-158.3\" font-family=\"Times,serif\" font-size=\"14.00\">Integer(&#45;1)</text>\n",
       "</g>\n",
       "<!-- Pow(Symbol(&#39;y&#39;), Integer(&#45;1))_(0,)&#45;&gt;Integer(&#45;1)_(0, 1) -->\n",
       "<g id=\"edge5\" class=\"edge\"><title>Pow(Symbol(&#39;y&#39;), Integer(&#45;1))_(0,)&#45;&gt;Integer(&#45;1)_(0, 1)</title>\n",
       "<path fill=\"none\" stroke=\"black\" d=\"M202.745,-215.697C202.745,-207.983 202.745,-198.712 202.745,-190.112\"/>\n",
       "<polygon fill=\"black\" stroke=\"black\" points=\"206.245,-190.104 202.745,-180.104 199.245,-190.104 206.245,-190.104\"/>\n",
       "</g>\n",
       "<!-- Rational(1, 2)_(1, 0) -->\n",
       "<g id=\"node6\" class=\"node\"><title>Rational(1, 2)_(1, 0)</title>\n",
       "<ellipse fill=\"none\" stroke=\"black\" cx=\"355.745\" cy=\"-162\" rx=\"73.387\" ry=\"18\"/>\n",
       "<text text-anchor=\"middle\" x=\"355.745\" y=\"-158.3\" font-family=\"Times,serif\" font-size=\"14.00\">Rational(1, 2)</text>\n",
       "</g>\n",
       "<!-- Mul(Rational(1, 2), sin(Mul(Symbol(&#39;x&#39;), Symbol(&#39;y&#39;))))_(1,)&#45;&gt;Rational(1, 2)_(1, 0) -->\n",
       "<g id=\"edge6\" class=\"edge\"><title>Mul(Rational(1, 2), sin(Mul(Symbol(&#39;x&#39;), Symbol(&#39;y&#39;))))_(1,)&#45;&gt;Rational(1, 2)_(1, 0)</title>\n",
       "<path fill=\"none\" stroke=\"black\" d=\"M401.942,-217.811C394.561,-209.054 385.101,-197.83 376.666,-187.822\"/>\n",
       "<polygon fill=\"black\" stroke=\"black\" points=\"379.301,-185.517 370.18,-180.127 373.948,-190.029 379.301,-185.517\"/>\n",
       "</g>\n",
       "<!-- sin(Mul(Symbol(&#39;x&#39;), Symbol(&#39;y&#39;)))_(1, 1) -->\n",
       "<g id=\"node7\" class=\"node\"><title>sin(Mul(Symbol(&#39;x&#39;), Symbol(&#39;y&#39;)))_(1, 1)</title>\n",
       "<ellipse fill=\"none\" stroke=\"black\" cx=\"473.745\" cy=\"-162\" rx=\"27\" ry=\"18\"/>\n",
       "<text text-anchor=\"middle\" x=\"473.745\" y=\"-158.3\" font-family=\"Times,serif\" font-size=\"14.00\">sin</text>\n",
       "</g>\n",
       "<!-- Mul(Rational(1, 2), sin(Mul(Symbol(&#39;x&#39;), Symbol(&#39;y&#39;))))_(1,)&#45;&gt;sin(Mul(Symbol(&#39;x&#39;), Symbol(&#39;y&#39;)))_(1, 1) -->\n",
       "<g id=\"edge7\" class=\"edge\"><title>Mul(Rational(1, 2), sin(Mul(Symbol(&#39;x&#39;), Symbol(&#39;y&#39;))))_(1,)&#45;&gt;sin(Mul(Symbol(&#39;x&#39;), Symbol(&#39;y&#39;)))_(1, 1)</title>\n",
       "<path fill=\"none\" stroke=\"black\" d=\"M427.547,-217.811C435.355,-208.546 445.492,-196.52 454.279,-186.094\"/>\n",
       "<polygon fill=\"black\" stroke=\"black\" points=\"457.199,-188.061 460.967,-178.159 451.846,-183.55 457.199,-188.061\"/>\n",
       "</g>\n",
       "<!-- Mul(Symbol(&#39;x&#39;), Symbol(&#39;y&#39;))_(1, 1, 0) -->\n",
       "<g id=\"node8\" class=\"node\"><title>Mul(Symbol(&#39;x&#39;), Symbol(&#39;y&#39;))_(1, 1, 0)</title>\n",
       "<ellipse fill=\"none\" stroke=\"black\" cx=\"473.745\" cy=\"-90\" rx=\"29.4969\" ry=\"18\"/>\n",
       "<text text-anchor=\"middle\" x=\"473.745\" y=\"-86.3\" font-family=\"Times,serif\" font-size=\"14.00\">Mul</text>\n",
       "</g>\n",
       "<!-- sin(Mul(Symbol(&#39;x&#39;), Symbol(&#39;y&#39;)))_(1, 1)&#45;&gt;Mul(Symbol(&#39;x&#39;), Symbol(&#39;y&#39;))_(1, 1, 0) -->\n",
       "<g id=\"edge8\" class=\"edge\"><title>sin(Mul(Symbol(&#39;x&#39;), Symbol(&#39;y&#39;)))_(1, 1)&#45;&gt;Mul(Symbol(&#39;x&#39;), Symbol(&#39;y&#39;))_(1, 1, 0)</title>\n",
       "<path fill=\"none\" stroke=\"black\" d=\"M473.745,-143.697C473.745,-135.983 473.745,-126.712 473.745,-118.112\"/>\n",
       "<polygon fill=\"black\" stroke=\"black\" points=\"477.245,-118.104 473.745,-108.104 470.245,-118.104 477.245,-118.104\"/>\n",
       "</g>\n",
       "<!-- Symbol(&#39;x&#39;)_(1, 1, 0, 0) -->\n",
       "<g id=\"node9\" class=\"node\"><title>Symbol(&#39;x&#39;)_(1, 1, 0, 0)</title>\n",
       "<ellipse fill=\"none\" stroke=\"black\" cx=\"403.745\" cy=\"-18\" rx=\"61.99\" ry=\"18\"/>\n",
       "<text text-anchor=\"middle\" x=\"403.745\" y=\"-14.3\" font-family=\"Times,serif\" font-size=\"14.00\">Symbol(&#39;x&#39;)</text>\n",
       "</g>\n",
       "<!-- Mul(Symbol(&#39;x&#39;), Symbol(&#39;y&#39;))_(1, 1, 0)&#45;&gt;Symbol(&#39;x&#39;)_(1, 1, 0, 0) -->\n",
       "<g id=\"edge9\" class=\"edge\"><title>Mul(Symbol(&#39;x&#39;), Symbol(&#39;y&#39;))_(1, 1, 0)&#45;&gt;Symbol(&#39;x&#39;)_(1, 1, 0, 0)</title>\n",
       "<path fill=\"none\" stroke=\"black\" d=\"M458.899,-74.1548C449.857,-65.1124 438.092,-53.3474 427.752,-43.0072\"/>\n",
       "<polygon fill=\"black\" stroke=\"black\" points=\"430.08,-40.3852 420.534,-35.789 425.13,-45.335 430.08,-40.3852\"/>\n",
       "</g>\n",
       "<!-- Symbol(&#39;y&#39;)_(1, 1, 0, 1) -->\n",
       "<g id=\"node10\" class=\"node\"><title>Symbol(&#39;y&#39;)_(1, 1, 0, 1)</title>\n",
       "<ellipse fill=\"none\" stroke=\"black\" cx=\"544.745\" cy=\"-18\" rx=\"61.99\" ry=\"18\"/>\n",
       "<text text-anchor=\"middle\" x=\"544.745\" y=\"-14.3\" font-family=\"Times,serif\" font-size=\"14.00\">Symbol(&#39;y&#39;)</text>\n",
       "</g>\n",
       "<!-- Mul(Symbol(&#39;x&#39;), Symbol(&#39;y&#39;))_(1, 1, 0)&#45;&gt;Symbol(&#39;y&#39;)_(1, 1, 0, 1) -->\n",
       "<g id=\"edge10\" class=\"edge\"><title>Mul(Symbol(&#39;x&#39;), Symbol(&#39;y&#39;))_(1, 1, 0)&#45;&gt;Symbol(&#39;y&#39;)_(1, 1, 0, 1)</title>\n",
       "<path fill=\"none\" stroke=\"black\" d=\"M488.802,-74.1548C498.039,-65.0478 510.077,-53.1792 520.619,-42.7858\"/>\n",
       "<polygon fill=\"black\" stroke=\"black\" points=\"523.305,-45.0523 527.969,-35.5391 518.391,-40.0675 523.305,-45.0523\"/>\n",
       "</g>\n",
       "<!-- Integer(&#45;1)_(2, 0) -->\n",
       "<g id=\"node12\" class=\"node\"><title>Integer(&#45;1)_(2, 0)</title>\n",
       "<ellipse fill=\"none\" stroke=\"black\" cx=\"579.745\" cy=\"-162\" rx=\"61.1893\" ry=\"18\"/>\n",
       "<text text-anchor=\"middle\" x=\"579.745\" y=\"-158.3\" font-family=\"Times,serif\" font-size=\"14.00\">Integer(&#45;1)</text>\n",
       "</g>\n",
       "<!-- Mul(Integer(&#45;1), Pow(Symbol(&#39;x&#39;), Integer(2)))_(2,)&#45;&gt;Integer(&#45;1)_(2, 0) -->\n",
       "<g id=\"edge11\" class=\"edge\"><title>Mul(Integer(&#45;1), Pow(Symbol(&#39;x&#39;), Integer(2)))_(2,)&#45;&gt;Integer(&#45;1)_(2, 0)</title>\n",
       "<path fill=\"none\" stroke=\"black\" d=\"M579.745,-215.697C579.745,-207.983 579.745,-198.712 579.745,-190.112\"/>\n",
       "<polygon fill=\"black\" stroke=\"black\" points=\"583.245,-190.104 579.745,-180.104 576.245,-190.104 583.245,-190.104\"/>\n",
       "</g>\n",
       "<!-- Pow(Symbol(&#39;x&#39;), Integer(2))_(2, 1) -->\n",
       "<g id=\"node13\" class=\"node\"><title>Pow(Symbol(&#39;x&#39;), Integer(2))_(2, 1)</title>\n",
       "<ellipse fill=\"none\" stroke=\"black\" cx=\"688.745\" cy=\"-162\" rx=\"29.795\" ry=\"18\"/>\n",
       "<text text-anchor=\"middle\" x=\"688.745\" y=\"-158.3\" font-family=\"Times,serif\" font-size=\"14.00\">Pow</text>\n",
       "</g>\n",
       "<!-- Mul(Integer(&#45;1), Pow(Symbol(&#39;x&#39;), Integer(2)))_(2,)&#45;&gt;Pow(Symbol(&#39;x&#39;), Integer(2))_(2, 1) -->\n",
       "<g id=\"edge12\" class=\"edge\"><title>Mul(Integer(&#45;1), Pow(Symbol(&#39;x&#39;), Integer(2)))_(2,)&#45;&gt;Pow(Symbol(&#39;x&#39;), Integer(2))_(2, 1)</title>\n",
       "<path fill=\"none\" stroke=\"black\" d=\"M599.232,-220.485C616.253,-209.554 641.177,-193.548 660.406,-181.199\"/>\n",
       "<polygon fill=\"black\" stroke=\"black\" points=\"662.536,-183.991 669.059,-175.642 658.753,-178.101 662.536,-183.991\"/>\n",
       "</g>\n",
       "<!-- Symbol(&#39;x&#39;)_(2, 1, 0) -->\n",
       "<g id=\"node14\" class=\"node\"><title>Symbol(&#39;x&#39;)_(2, 1, 0)</title>\n",
       "<ellipse fill=\"none\" stroke=\"black\" cx=\"635.745\" cy=\"-90\" rx=\"61.99\" ry=\"18\"/>\n",
       "<text text-anchor=\"middle\" x=\"635.745\" y=\"-86.3\" font-family=\"Times,serif\" font-size=\"14.00\">Symbol(&#39;x&#39;)</text>\n",
       "</g>\n",
       "<!-- Pow(Symbol(&#39;x&#39;), Integer(2))_(2, 1)&#45;&gt;Symbol(&#39;x&#39;)_(2, 1, 0) -->\n",
       "<g id=\"edge13\" class=\"edge\"><title>Pow(Symbol(&#39;x&#39;), Integer(2))_(2, 1)&#45;&gt;Symbol(&#39;x&#39;)_(2, 1, 0)</title>\n",
       "<path fill=\"none\" stroke=\"black\" d=\"M676.718,-145.116C670.198,-136.505 661.993,-125.667 654.64,-115.957\"/>\n",
       "<polygon fill=\"black\" stroke=\"black\" points=\"657.289,-113.657 648.463,-107.797 651.709,-117.883 657.289,-113.657\"/>\n",
       "</g>\n",
       "<!-- Integer(2)_(2, 1, 1) -->\n",
       "<g id=\"node15\" class=\"node\"><title>Integer(2)_(2, 1, 1)</title>\n",
       "<ellipse fill=\"none\" stroke=\"black\" cx=\"773.745\" cy=\"-90\" rx=\"57.6901\" ry=\"18\"/>\n",
       "<text text-anchor=\"middle\" x=\"773.745\" y=\"-86.3\" font-family=\"Times,serif\" font-size=\"14.00\">Integer(2)</text>\n",
       "</g>\n",
       "<!-- Pow(Symbol(&#39;x&#39;), Integer(2))_(2, 1)&#45;&gt;Integer(2)_(2, 1, 1) -->\n",
       "<g id=\"edge14\" class=\"edge\"><title>Pow(Symbol(&#39;x&#39;), Integer(2))_(2, 1)&#45;&gt;Integer(2)_(2, 1, 1)</title>\n",
       "<path fill=\"none\" stroke=\"black\" d=\"M705.946,-146.834C717.515,-137.306 733.018,-124.54 746.279,-113.619\"/>\n",
       "<polygon fill=\"black\" stroke=\"black\" points=\"748.696,-116.162 754.19,-107.103 744.246,-110.759 748.696,-116.162\"/>\n",
       "</g>\n",
       "</g>\n",
       "</svg>\n"
      ],
      "text/plain": [
       "<graphviz.files.Source object at 0x7fbbdfca9be0>"
      ]
     },
     "execution_count": 19,
     "metadata": {},
     "output_type": "execute_result"
    }
   ],
   "source": [
    "Source(sympy.dotprint(expr._sympy_(), labelfunc=sympy.srepr))"
   ]
  },
  {
   "cell_type": "markdown",
   "metadata": {},
   "source": [
    "# Walking the tree"
   ]
  },
  {
   "cell_type": "code",
   "execution_count": 20,
   "metadata": {},
   "outputs": [
    {
     "name": "stdout",
     "output_type": "stream",
     "text": [
      "-x**2 + sin(x*y)/2 + 1/y\n",
      "1/y\n",
      "y\n",
      "-1\n",
      "sin(x*y)/2\n",
      "1/2\n",
      "sin(x*y)\n",
      "x*y\n",
      "x\n",
      "y\n",
      "-x**2\n",
      "-1\n",
      "x**2\n",
      "x\n",
      "2\n"
     ]
    }
   ],
   "source": [
    "for arg in sympy.preorder_traversal(expr._sympy_()):\n",
    "    print(arg)"
   ]
  }
 ],
 "metadata": {
  "kernelspec": {
   "display_name": "SageMath 9.3.beta4",
   "language": "sage",
   "name": "sagemath"
  },
  "language_info": {
   "codemirror_mode": {
    "name": "ipython",
    "version": 3
   },
   "file_extension": ".py",
   "mimetype": "text/x-python",
   "name": "python",
   "nbconvert_exporter": "python",
   "pygments_lexer": "ipython3",
   "version": "3.8.5"
  }
 },
 "nbformat": 4,
 "nbformat_minor": 2
}
